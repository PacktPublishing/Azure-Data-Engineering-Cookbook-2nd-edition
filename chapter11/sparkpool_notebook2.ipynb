{
  "nbformat": 4,
  "nbformat_minor": 2,
  "cells": [
    {
      "cell_type": "code",
      "execution_count": 1,
      "outputs": [],
      "metadata": {
        "microsoft": {
          "language": "python"
        },
        "collapsed": false
      },
      "source": [
        "%%pyspark\r\n",
        "df = spark.read.load('abfss://synapse@packtadesynapse.dfs.core.windows.net/files/transaction-tbl.csv', format='csv'\r\n",
        "## If header exists uncomment line below\r\n",
        ",header=True\r\n",
        ")\r\n",
        "display(df.limit(10))"
      ]
    },
    {
      "cell_type": "code",
      "execution_count": 2,
      "outputs": [],
      "metadata": {
        "jupyter": {
          "source_hidden": false,
          "outputs_hidden": false
        },
        "nteract": {
          "transient": {
            "deleting": false
          }
        }
      },
      "source": [
        "df.createOrReplaceTempView(\"vw_transaction_tbl\")"
      ]
    },
    {
      "cell_type": "code",
      "execution_count": 3,
      "outputs": [],
      "metadata": {
        "jupyter": {
          "source_hidden": false,
          "outputs_hidden": false
        },
        "nteract": {
          "transient": {
            "deleting": false
          }
        },
        "microsoft": {
          "language": "sparksql"
        },
        "collapsed": false
      },
      "source": [
        "%%sql\r\n",
        "CREATE OR REPLACE TABLE transaction_tbl2  \r\n",
        "USING DELTA\r\n",
        "AS \r\n",
        "\r\n",
        "SELECT * FROM vw_transaction_tbl"
      ]
    },
    {
      "cell_type": "code",
      "execution_count": 4,
      "outputs": [],
      "metadata": {
        "jupyter": {
          "source_hidden": false,
          "outputs_hidden": false
        },
        "nteract": {
          "transient": {
            "deleting": false
          }
        },
        "microsoft": {
          "language": "sparksql"
        },
        "collapsed": false
      },
      "source": [
        "\r\n",
        "%%sql\r\n",
        "Select t1.pid,t1.c1,t2.c2,sum(t2.order_count)\r\n",
        "FROM transaction_tbl2 t1 \r\n",
        "inner join transaction_tbl2 t2 on t1.transaction_date = t2.transaction_date\r\n",
        "WHERE t1.tid between 1 and 100\r\n",
        "Group by t1.pid,t1.c1,t2.c2\r\n",
        "order by sum(t2.order_count)\r\n",
        "\r\n",
        ""
      ]
    }
  ],
  "metadata": {
    "description": null,
    "save_output": true,
    "kernelspec": {
      "name": "synapse_pyspark",
      "display_name": "Synapse PySpark"
    },
    "language_info": {
      "name": "python"
    }
  }
}