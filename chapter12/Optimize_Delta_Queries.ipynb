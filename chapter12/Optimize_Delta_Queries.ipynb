{
  "cells": [
    {
      "cell_type": "code",
      "source": [
        "%%pyspark\r\n",
        "df = spark.read.load('abfss://synapse@packtadesynapse.dfs.core.windows.net/files/transaction-tbl.csv', format='csv'\r\n",
        "## If header exists uncomment line below\r\n",
        ",header=True\r\n",
        ")\r\n",
        "display(df.limit(10))"
      ],
      "outputs": [
        {
          "output_type": "display_data",
          "data": {
            "application/vnd.livy.statement-meta+json": {
              "spark_pool": "packtsparkpool",
              "session_id": "75",
              "statement_id": 2,
              "state": "finished",
              "livy_statement_state": "available",
              "queued_time": "2022-07-17T16:46:27.8682578Z",
              "session_start_time": "2022-07-17T16:46:27.9476084Z",
              "execution_start_time": "2022-07-17T16:47:19.0802314Z",
              "execution_finish_time": "2022-07-17T16:47:41.9482746Z",
              "spark_jobs": null
            },
            "text/plain": "StatementMeta(packtsparkpool, 75, 2, Finished, Available)"
          },
          "metadata": {}
        },
        {
          "output_type": "display_data",
          "data": {
            "application/vnd.synapse.widget-view+json": {
              "widget_id": "9b8d94e8-fe1f-4b54-a7ba-8d4317c468b1",
              "widget_type": "Synapse.DataFrame"
            },
            "text/plain": "SynapseWidget(Synapse.DataFrame, 9b8d94e8-fe1f-4b54-a7ba-8d4317c468b1)"
          },
          "metadata": {}
        }
      ],
      "execution_count": 1,
      "metadata": {
        "microsoft": {
          "language": "python"
        },
        "collapsed": false
      }
    },
    {
      "cell_type": "code",
      "source": [
        "df.createOrReplaceTempView(\"vw_transaction_tbl\")"
      ],
      "outputs": [
        {
          "output_type": "display_data",
          "data": {
            "application/vnd.livy.statement-meta+json": {
              "spark_pool": "packtsparkpool",
              "session_id": "75",
              "statement_id": 3,
              "state": "finished",
              "livy_statement_state": "available",
              "queued_time": "2022-07-17T16:46:27.8701257Z",
              "session_start_time": null,
              "execution_start_time": "2022-07-17T16:47:42.1025064Z",
              "execution_finish_time": "2022-07-17T16:47:44.8738044Z",
              "spark_jobs": null
            },
            "text/plain": "StatementMeta(packtsparkpool, 75, 3, Finished, Available)"
          },
          "metadata": {}
        }
      ],
      "execution_count": 2,
      "metadata": {
        "jupyter": {
          "source_hidden": false,
          "outputs_hidden": false
        },
        "nteract": {
          "transient": {
            "deleting": false
          }
        }
      }
    },
    {
      "cell_type": "code",
      "source": [
        "%%sql\r\n",
        "CREATE TABLE transaction_tbl_f1 \r\n",
        "USING DELTA\r\n",
        "SELECT * FROM vw_transaction_tbl;\r\n",
        "\r\n"
      ],
      "outputs": [
        {
          "output_type": "display_data",
          "data": {
            "application/vnd.livy.statement-meta+json": {
              "spark_pool": "packtsparkpool",
              "session_id": "75",
              "statement_id": 4,
              "state": "finished",
              "livy_statement_state": "available",
              "queued_time": "2022-07-17T16:46:27.8723938Z",
              "session_start_time": null,
              "execution_start_time": "2022-07-17T16:47:44.9849478Z",
              "execution_finish_time": "2022-07-17T16:48:03.7623733Z",
              "spark_jobs": null
            },
            "text/plain": "StatementMeta(packtsparkpool, 75, 4, Finished, Available)"
          },
          "metadata": {}
        },
        {
          "output_type": "execute_result",
          "execution_count": 3,
          "data": {
            "application/vnd.synapse.sparksql-result+json": {
              "schema": {
                "type": "struct",
                "fields": []
              },
              "data": []
            },
            "text/plain": "<Spark SQL result set with 0 rows and 0 fields>"
          },
          "metadata": {}
        }
      ],
      "execution_count": 3,
      "metadata": {
        "jupyter": {
          "source_hidden": false,
          "outputs_hidden": false
        },
        "nteract": {
          "transient": {
            "deleting": false
          }
        },
        "microsoft": {
          "language": "sparksql"
        },
        "collapsed": false
      }
    },
    {
      "cell_type": "code",
      "source": [
        "%%sql\r\n",
        "CREATE TABLE transaction_tbl_f2\r\n",
        "USING DELTA\r\n",
        "SELECT * FROM vw_transaction_tbl;\r\n",
        "Insert into transaction_tbl_f2\r\n",
        "Select * from vw_transaction_tbl;\r\n",
        "Select count(*) from transaction_tbl_f2;"
      ],
      "outputs": [
        {
          "output_type": "display_data",
          "data": {
            "application/vnd.livy.statement-meta+json": {
              "spark_pool": null,
              "session_id": "75",
              "statement_id": -1,
              "state": "finished",
              "livy_statement_state": "available",
              "queued_time": "2022-07-17T16:46:27.8749637Z",
              "session_start_time": null,
              "execution_start_time": "2022-07-17T16:48:22.1940096Z",
              "execution_finish_time": "2022-07-17T16:48:22.1943326Z",
              "spark_jobs": null
            },
            "text/plain": "StatementMeta(, 75, -1, Finished, Available)"
          },
          "metadata": {}
        },
        {
          "output_type": "execute_result",
          "execution_count": 4,
          "data": {
            "application/vnd.synapse.sparksql-result+json": {
              "schema": {
                "type": "struct",
                "fields": []
              },
              "data": []
            },
            "text/plain": "<Spark SQL result set with 0 rows and 0 fields>"
          },
          "metadata": {}
        },
        {
          "output_type": "execute_result",
          "execution_count": 4,
          "data": {
            "application/vnd.synapse.sparksql-result+json": {
              "schema": {
                "type": "struct",
                "fields": []
              },
              "data": []
            },
            "text/plain": "<Spark SQL result set with 0 rows and 0 fields>"
          },
          "metadata": {}
        },
        {
          "output_type": "execute_result",
          "execution_count": 4,
          "data": {
            "application/vnd.synapse.sparksql-result+json": {
              "schema": {
                "type": "struct",
                "fields": [
                  {
                    "name": "count(1)",
                    "type": "long",
                    "nullable": false,
                    "metadata": {}
                  }
                ]
              },
              "data": [
                [
                  "485488"
                ]
              ]
            },
            "text/plain": "<Spark SQL result set with 1 rows and 1 fields>"
          },
          "metadata": {}
        }
      ],
      "execution_count": 4,
      "metadata": {
        "jupyter": {
          "source_hidden": false,
          "outputs_hidden": false
        },
        "nteract": {
          "transient": {
            "deleting": false
          }
        },
        "microsoft": {
          "language": "sparksql"
        },
        "collapsed": false
      }
    },
    {
      "cell_type": "code",
      "source": [
        "ctr = 1\r\n",
        "while ctr <=10 :\r\n",
        "    spark.sql(f\"Insert into transaction_tbl_f1 Select * from transaction_tbl_f1\")\r\n",
        "    ctr = ctr + 1\r\n"
      ],
      "outputs": [
        {
          "output_type": "display_data",
          "data": {
            "application/vnd.livy.statement-meta+json": {
              "spark_pool": "packtsparkpool",
              "session_id": "75",
              "statement_id": 8,
              "state": "finished",
              "livy_statement_state": "available",
              "queued_time": "2022-07-17T16:46:27.8776404Z",
              "session_start_time": null,
              "execution_start_time": "2022-07-17T16:48:22.3361295Z",
              "execution_finish_time": "2022-07-17T16:53:17.0670091Z",
              "spark_jobs": null
            },
            "text/plain": "StatementMeta(packtsparkpool, 75, 8, Finished, Available)"
          },
          "metadata": {}
        }
      ],
      "execution_count": 5,
      "metadata": {
        "jupyter": {
          "source_hidden": false,
          "outputs_hidden": false
        },
        "nteract": {
          "transient": {
            "deleting": false
          }
        }
      }
    },
    {
      "cell_type": "code",
      "source": [
        "%%sql\r\n",
        "Select count(*) from transaction_tbl_f1"
      ],
      "outputs": [
        {
          "output_type": "display_data",
          "data": {
            "application/vnd.livy.statement-meta+json": {
              "spark_pool": "packtsparkpool",
              "session_id": "75",
              "statement_id": 9,
              "state": "finished",
              "livy_statement_state": "available",
              "queued_time": "2022-07-17T16:46:27.8803483Z",
              "session_start_time": null,
              "execution_start_time": "2022-07-17T16:53:17.2659532Z",
              "execution_finish_time": "2022-07-17T16:53:22.5327828Z",
              "spark_jobs": null
            },
            "text/plain": "StatementMeta(packtsparkpool, 75, 9, Finished, Available)"
          },
          "metadata": {}
        },
        {
          "output_type": "execute_result",
          "execution_count": 6,
          "data": {
            "application/vnd.synapse.sparksql-result+json": {
              "schema": {
                "type": "struct",
                "fields": [
                  {
                    "name": "count(1)",
                    "type": "long",
                    "nullable": false,
                    "metadata": {}
                  }
                ]
              },
              "data": [
                [
                  "248569856"
                ]
              ]
            },
            "text/plain": "<Spark SQL result set with 1 rows and 1 fields>"
          },
          "metadata": {}
        }
      ],
      "execution_count": 6,
      "metadata": {
        "jupyter": {
          "source_hidden": false,
          "outputs_hidden": false
        },
        "nteract": {
          "transient": {
            "deleting": false
          }
        },
        "microsoft": {
          "language": "sparksql"
        },
        "collapsed": false
      }
    },
    {
      "cell_type": "code",
      "source": [
        "%%sql\r\n",
        "Select t1.pid,sum(t2.order_count)\r\n",
        "FROM transaction_tbl_f1 t1 \r\n",
        "inner join transaction_tbl_f2 t2 on t1.tid = t2.tid\r\n",
        "WHERE t1.pid between 3 and 7\r\n",
        "Group by t1.pid\r\n"
      ],
      "outputs": [
        {
          "output_type": "display_data",
          "data": {
            "application/vnd.livy.statement-meta+json": {
              "spark_pool": "packtsparkpool",
              "session_id": "75",
              "statement_id": 10,
              "state": "finished",
              "livy_statement_state": "available",
              "queued_time": "2022-07-17T16:46:27.8831752Z",
              "session_start_time": null,
              "execution_start_time": "2022-07-17T16:53:22.6342791Z",
              "execution_finish_time": "2022-07-17T16:54:01.932259Z",
              "spark_jobs": null
            },
            "text/plain": "StatementMeta(packtsparkpool, 75, 10, Finished, Available)"
          },
          "metadata": {}
        },
        {
          "output_type": "execute_result",
          "execution_count": 7,
          "data": {
            "application/vnd.synapse.sparksql-result+json": {
              "schema": {
                "type": "struct",
                "fields": [
                  {
                    "name": "pid",
                    "type": "string",
                    "nullable": true,
                    "metadata": {}
                  },
                  {
                    "name": "sum(CAST(order_count AS DOUBLE))",
                    "type": "double",
                    "nullable": true,
                    "metadata": {}
                  }
                ]
              },
              "data": [
                [
                  "7",
                  1840609280
                ],
                [
                  "3",
                  1847656448
                ],
                [
                  "5",
                  1840822272
                ],
                [
                  "6",
                  1843316736
                ],
                [
                  "4",
                  1853331456
                ]
              ]
            },
            "text/plain": "<Spark SQL result set with 5 rows and 2 fields>"
          },
          "metadata": {}
        }
      ],
      "execution_count": 7,
      "metadata": {
        "jupyter": {
          "source_hidden": false,
          "outputs_hidden": false
        },
        "nteract": {
          "transient": {
            "deleting": false
          }
        },
        "microsoft": {
          "language": "sparksql"
        },
        "collapsed": false
      }
    }
  ],
  "metadata": {
    "kernelspec": {
      "name": "synapse_pyspark",
      "language": "Python",
      "display_name": "Synapse PySpark"
    },
    "language_info": {
      "name": "python"
    },
    "kernel_info": {
      "name": "synapse_pyspark"
    },
    "description": null,
    "save_output": true,
    "synapse_widget": {
      "version": "0.1",
      "state": {
        "9b8d94e8-fe1f-4b54-a7ba-8d4317c468b1": {
          "type": "Synapse.DataFrame",
          "sync_state": {
            "table": {
              "rows": [
                {
                  "0": "156498",
                  "1": "20220219",
                  "2": "36",
                  "3": "28771",
                  "4": "7",
                  "5": "4",
                  "6": "BBB14778-494C-4015-AA4F-66012C0383D8",
                  "7": "B4132E38-2191-460B-A4A4-F7BE2787855D"
                },
                {
                  "0": "156523",
                  "1": "20220219",
                  "2": "29",
                  "3": "10896",
                  "4": "2",
                  "5": "9",
                  "6": "E1CD8543-F297-4703-983D-43DCDE523298",
                  "7": "5815332E-9D16-4659-974F-E3F41132B771"
                },
                {
                  "0": "156674",
                  "1": "20220219",
                  "2": "73",
                  "3": "36205",
                  "4": "4",
                  "5": "7",
                  "6": "EF648FF5-9D03-4FFB-A1C2-332A8AFBDD65",
                  "7": "80BC8C51-58DB-4086-B4CD-9CAD545F6057"
                },
                {
                  "0": "156729",
                  "1": "20220219",
                  "2": "16",
                  "3": "36042",
                  "4": "9",
                  "5": "2",
                  "6": "A2E05C35-5FE4-4063-B640-C206ECF5FF07",
                  "7": "A19E3CBE-57C1-4753-95D2-4A472404C969"
                },
                {
                  "0": "157380",
                  "1": "20220219",
                  "2": "12",
                  "3": "6241",
                  "4": "1",
                  "5": "10",
                  "6": "658696DE-C62A-4291-AC39-0FC102E6D23E",
                  "7": "46534E75-C308-4285-BBF6-038A5EB33D99"
                },
                {
                  "0": "157553",
                  "1": "20220219",
                  "2": "14",
                  "3": "29810",
                  "4": "8",
                  "5": "3",
                  "6": "01AF2F4F-D266-4F42-8C73-89720DA74DD7",
                  "7": "6BD2793C-BEDA-48F2-9059-B1BB5107C1EA"
                },
                {
                  "0": "157598",
                  "1": "20220219",
                  "2": "4",
                  "3": "44520",
                  "4": "3",
                  "5": "8",
                  "6": "7AE3AEE7-84C4-422A-B843-CDD86E396379",
                  "7": "A2E6A6E4-5961-4193-A2AE-88FDD9754763"
                },
                {
                  "0": "157793",
                  "1": "20220219",
                  "2": "25",
                  "3": "3736",
                  "4": "3",
                  "5": "8",
                  "6": "57186597-9F0D-42CD-B41F-54AE3C5E86F8",
                  "7": "810BEB07-EC65-44D0-8A1B-082C2183BFF2"
                },
                {
                  "0": "158003",
                  "1": "20220219",
                  "2": "16",
                  "3": "47331",
                  "4": "4",
                  "5": "7",
                  "6": "9E7C2DD9-B2AF-4AD2-8F82-EC1C08469853",
                  "7": "727CED34-BEA1-4996-8F2E-4F3A8C46707A"
                },
                {
                  "0": "158024",
                  "1": "20220219",
                  "2": "4",
                  "3": "25537",
                  "4": "5",
                  "5": "6",
                  "6": "048F6473-9782-4A93-B7A4-F592E0E5D23A",
                  "7": "DDD01065-123A-408B-8AAF-10927D7FE6C8"
                }
              ],
              "schema": [
                {
                  "key": "0",
                  "name": "tid",
                  "type": "string"
                },
                {
                  "key": "1",
                  "name": "transaction_date",
                  "type": "string"
                },
                {
                  "key": "2",
                  "name": "order_count",
                  "type": "string"
                },
                {
                  "key": "3",
                  "name": "total_cost",
                  "type": "string"
                },
                {
                  "key": "4",
                  "name": "sid",
                  "type": "string"
                },
                {
                  "key": "5",
                  "name": "pid",
                  "type": "string"
                },
                {
                  "key": "6",
                  "name": "c1",
                  "type": "string"
                },
                {
                  "key": "7",
                  "name": "c2",
                  "type": "string"
                }
              ],
              "truncated": false
            },
            "isSummary": false,
            "language": "scala"
          },
          "persist_state": {
            "view": {
              "type": "details",
              "tableOptions": {},
              "chartOptions": {
                "chartType": "bar",
                "aggregationType": "count",
                "categoryFieldKeys": [
                  "0"
                ],
                "seriesFieldKeys": [
                  "0"
                ],
                "isStacked": false
              }
            }
          }
        }
      }
    }
  },
  "nbformat": 4,
  "nbformat_minor": 2
}