{
  "cells": [
    {
      "cell_type": "code",
      "source": [
        "%%pyspark\r\n",
        "df = spark.read.load('abfss://synapse@packtadesynapse.dfs.core.windows.net/files/transaction-tbl.csv', format='csv'\r\n",
        "## If header exists uncomment line below\r\n",
        ",header=True\r\n",
        ")\r\n",
        "display(df.limit(10))"
      ],
      "outputs": [
        {
          "output_type": "display_data",
          "data": {
            "application/vnd.livy.statement-meta+json": {
              "spark_pool": "packtsparkpool",
              "session_id": "61",
              "statement_id": 26,
              "state": "finished",
              "livy_statement_state": "available",
              "queued_time": "2022-07-16T15:46:14.2964424Z",
              "session_start_time": null,
              "execution_start_time": "2022-07-16T15:46:14.4122519Z",
              "execution_finish_time": "2022-07-16T15:46:16.2736296Z",
              "spark_jobs": null
            },
            "text/plain": "StatementMeta(packtsparkpool, 61, 26, Finished, Available)"
          },
          "metadata": {}
        },
        {
          "output_type": "display_data",
          "data": {
            "application/vnd.synapse.widget-view+json": {
              "widget_id": "24c2ebb1-d2df-457a-b83c-71d54b215b36",
              "widget_type": "Synapse.DataFrame"
            },
            "text/plain": "SynapseWidget(Synapse.DataFrame, 24c2ebb1-d2df-457a-b83c-71d54b215b36)"
          },
          "metadata": {}
        }
      ],
      "execution_count": 22,
      "metadata": {
        "microsoft": {
          "language": "python"
        },
        "collapsed": false
      }
    },
    {
      "cell_type": "code",
      "source": [
        "df.createOrReplaceTempView(\"vw_transaction_tbl\")"
      ],
      "outputs": [
        {
          "output_type": "display_data",
          "data": {
            "application/vnd.livy.statement-meta+json": {
              "spark_pool": "packtsparkpool",
              "session_id": "61",
              "statement_id": 27,
              "state": "finished",
              "livy_statement_state": "available",
              "queued_time": "2022-07-16T15:46:14.4251552Z",
              "session_start_time": null,
              "execution_start_time": "2022-07-16T15:46:16.3831521Z",
              "execution_finish_time": "2022-07-16T15:46:16.5343275Z",
              "spark_jobs": null
            },
            "text/plain": "StatementMeta(packtsparkpool, 61, 27, Finished, Available)"
          },
          "metadata": {}
        }
      ],
      "execution_count": 23,
      "metadata": {
        "jupyter": {
          "source_hidden": false,
          "outputs_hidden": false
        },
        "nteract": {
          "transient": {
            "deleting": false
          }
        }
      }
    },
    {
      "cell_type": "code",
      "source": [
        "%%sql\r\n",
        "CREATE DATABASE if not exists lake_db"
      ],
      "outputs": [
        {
          "output_type": "display_data",
          "data": {
            "application/vnd.livy.statement-meta+json": {
              "spark_pool": "packtsparkpool",
              "session_id": "61",
              "statement_id": 28,
              "state": "finished",
              "livy_statement_state": "available",
              "queued_time": "2022-07-16T15:46:14.5206135Z",
              "session_start_time": null,
              "execution_start_time": "2022-07-16T15:46:16.6634235Z",
              "execution_finish_time": "2022-07-16T15:46:17.1797385Z",
              "spark_jobs": null
            },
            "text/plain": "StatementMeta(packtsparkpool, 61, 28, Finished, Available)"
          },
          "metadata": {}
        },
        {
          "output_type": "execute_result",
          "execution_count": 24,
          "data": {
            "application/vnd.synapse.sparksql-result+json": {
              "schema": {
                "type": "struct",
                "fields": []
              },
              "data": []
            },
            "text/plain": "<Spark SQL result set with 0 rows and 0 fields>"
          },
          "metadata": {}
        }
      ],
      "execution_count": 24,
      "metadata": {
        "jupyter": {
          "source_hidden": false,
          "outputs_hidden": false
        },
        "nteract": {
          "transient": {
            "deleting": false
          }
        },
        "microsoft": {
          "language": "sparksql"
        },
        "collapsed": false
      }
    },
    {
      "cell_type": "code",
      "source": [
        "%%sql\r\n",
        "CREATE TABLE if not exists lake_db.transaction_tbl_t1 \r\n",
        "USING DELTA\r\n",
        "SELECT * FROM vw_transaction_tbl"
      ],
      "outputs": [
        {
          "output_type": "display_data",
          "data": {
            "application/vnd.livy.statement-meta+json": {
              "spark_pool": "packtsparkpool",
              "session_id": "61",
              "statement_id": 29,
              "state": "finished",
              "livy_statement_state": "available",
              "queued_time": "2022-07-16T15:46:14.6704428Z",
              "session_start_time": null,
              "execution_start_time": "2022-07-16T15:46:17.2934002Z",
              "execution_finish_time": "2022-07-16T15:46:22.6477837Z",
              "spark_jobs": null
            },
            "text/plain": "StatementMeta(packtsparkpool, 61, 29, Finished, Available)"
          },
          "metadata": {}
        },
        {
          "output_type": "execute_result",
          "execution_count": 25,
          "data": {
            "application/vnd.synapse.sparksql-result+json": {
              "schema": {
                "type": "struct",
                "fields": []
              },
              "data": []
            },
            "text/plain": "<Spark SQL result set with 0 rows and 0 fields>"
          },
          "metadata": {}
        }
      ],
      "execution_count": 25,
      "metadata": {
        "jupyter": {
          "source_hidden": false,
          "outputs_hidden": false
        },
        "nteract": {
          "transient": {
            "deleting": false
          }
        },
        "microsoft": {
          "language": "sparksql"
        },
        "collapsed": false
      }
    },
    {
      "cell_type": "code",
      "source": [
        "%%sql\r\n",
        "CREATE TABLE if not exists lake_db.transaction_tbl_t2 \r\n",
        "USING DELTA\r\n",
        "SELECT * FROM vw_transaction_tbl"
      ],
      "outputs": [
        {
          "output_type": "display_data",
          "data": {
            "application/vnd.livy.statement-meta+json": {
              "spark_pool": "packtsparkpool",
              "session_id": "61",
              "statement_id": 30,
              "state": "finished",
              "livy_statement_state": "available",
              "queued_time": "2022-07-16T15:46:14.8579023Z",
              "session_start_time": null,
              "execution_start_time": "2022-07-16T15:46:22.7872867Z",
              "execution_finish_time": "2022-07-16T15:46:28.1452928Z",
              "spark_jobs": null
            },
            "text/plain": "StatementMeta(packtsparkpool, 61, 30, Finished, Available)"
          },
          "metadata": {}
        },
        {
          "output_type": "execute_result",
          "execution_count": 26,
          "data": {
            "application/vnd.synapse.sparksql-result+json": {
              "schema": {
                "type": "struct",
                "fields": []
              },
              "data": []
            },
            "text/plain": "<Spark SQL result set with 0 rows and 0 fields>"
          },
          "metadata": {}
        }
      ],
      "execution_count": 26,
      "metadata": {
        "jupyter": {
          "source_hidden": false,
          "outputs_hidden": false
        },
        "nteract": {
          "transient": {
            "deleting": false
          }
        },
        "microsoft": {
          "language": "sparksql"
        },
        "collapsed": false
      }
    },
    {
      "cell_type": "markdown",
      "source": [
        "Run a few insert statements so that we will have a few small parquet files"
      ],
      "metadata": {
        "nteract": {
          "transient": {
            "deleting": false
          }
        }
      }
    },
    {
      "cell_type": "code",
      "source": [
        "ctr = 1\r\n",
        "while ctr <=3 :\r\n",
        "    spark.sql(f\"Insert into lake_db.transaction_tbl_t1 Select * from vw_transaction_tbl where tid < 10\")\r\n",
        "    ctr = ctr + 1"
      ],
      "outputs": [
        {
          "output_type": "display_data",
          "data": {
            "application/vnd.livy.statement-meta+json": {
              "spark_pool": "packtsparkpool",
              "session_id": "61",
              "statement_id": 31,
              "state": "finished",
              "livy_statement_state": "available",
              "queued_time": "2022-07-16T15:46:15.0557856Z",
              "session_start_time": null,
              "execution_start_time": "2022-07-16T15:46:28.2739644Z",
              "execution_finish_time": "2022-07-16T15:46:36.9517351Z",
              "spark_jobs": null
            },
            "text/plain": "StatementMeta(packtsparkpool, 61, 31, Finished, Available)"
          },
          "metadata": {}
        }
      ],
      "execution_count": 27,
      "metadata": {
        "jupyter": {
          "source_hidden": false,
          "outputs_hidden": false
        },
        "nteract": {
          "transient": {
            "deleting": false
          }
        }
      }
    },
    {
      "cell_type": "code",
      "source": [
        "%%sql\r\n",
        "/* \r\n",
        "drop table lake_db.transaction_tbl_t1;\r\n",
        "drop table lake_db.transaction_tbl_t2; \r\n",
        "*/\r\n",
        "Select 'Done' ;"
      ],
      "outputs": [
        {
          "output_type": "display_data",
          "data": {
            "application/vnd.livy.statement-meta+json": {
              "spark_pool": "packtsparkpool",
              "session_id": "61",
              "statement_id": 32,
              "state": "finished",
              "livy_statement_state": "available",
              "queued_time": "2022-07-16T15:46:15.1728016Z",
              "session_start_time": null,
              "execution_start_time": "2022-07-16T15:46:37.0931357Z",
              "execution_finish_time": "2022-07-16T15:46:37.6153061Z",
              "spark_jobs": null
            },
            "text/plain": "StatementMeta(packtsparkpool, 61, 32, Finished, Available)"
          },
          "metadata": {}
        },
        {
          "output_type": "execute_result",
          "execution_count": 28,
          "data": {
            "application/vnd.synapse.sparksql-result+json": {
              "schema": {
                "type": "struct",
                "fields": [
                  {
                    "name": "Done",
                    "type": "string",
                    "nullable": false,
                    "metadata": {}
                  }
                ]
              },
              "data": [
                [
                  "Done"
                ]
              ]
            },
            "text/plain": "<Spark SQL result set with 1 rows and 1 fields>"
          },
          "metadata": {}
        }
      ],
      "execution_count": 28,
      "metadata": {
        "jupyter": {
          "source_hidden": false,
          "outputs_hidden": false
        },
        "nteract": {
          "transient": {
            "deleting": false
          }
        },
        "microsoft": {
          "language": "sparksql"
        },
        "collapsed": false
      }
    }
  ],
  "metadata": {
    "kernelspec": {
      "name": "synapse_pyspark",
      "language": "Python",
      "display_name": "Synapse PySpark"
    },
    "language_info": {
      "name": "python"
    },
    "kernel_info": {
      "name": "synapse_pyspark"
    },
    "description": null,
    "save_output": true,
    "synapse_widget": {
      "version": "0.1",
      "state": {
        "24c2ebb1-d2df-457a-b83c-71d54b215b36": {
          "type": "Synapse.DataFrame",
          "sync_state": {
            "table": {
              "rows": [
                {
                  "0": "24",
                  "1": "20220331",
                  "2": "53",
                  "3": "13901",
                  "4": "5",
                  "5": "6",
                  "6": "56C0C0AE-3D5C-451A-89FD-C497960F8E45",
                  "7": "09EF963A-6361-4C5D-8224-79AB42C38E45"
                },
                {
                  "0": "182",
                  "1": "20220331",
                  "2": "32",
                  "3": "34234",
                  "4": "3",
                  "5": "8",
                  "6": "F47BD7EB-AEF4-42D3-9C31-038E6CA4E1B6",
                  "7": "B85F6A3C-5894-4AF8-8060-D168F0DBCFE3"
                },
                {
                  "0": "433",
                  "1": "20220331",
                  "2": "48",
                  "3": "45838",
                  "4": "5",
                  "5": "6",
                  "6": "4F804217-2625-4A81-8411-BD206ACF6834",
                  "7": "8DFCDDD2-1B3D-40E9-AA83-32F8D7BB83DA"
                },
                {
                  "0": "515",
                  "1": "20220331",
                  "2": "14",
                  "3": "32659",
                  "4": "7",
                  "5": "4",
                  "6": "E0CD000B-52E1-462B-AF23-A30899A048B9",
                  "7": "49DBE271-74A4-481A-8A5C-C1E232C79EC0"
                },
                {
                  "0": "640",
                  "1": "20220331",
                  "2": "10",
                  "3": "26423",
                  "4": "3",
                  "5": "8",
                  "6": "FC6576AD-77BC-4938-9983-C04B7BFAA1D2",
                  "7": "D09397DA-C670-42E6-9841-D1407DF6F851"
                },
                {
                  "0": "1502",
                  "1": "20220331",
                  "2": "52",
                  "3": "20162",
                  "4": "8",
                  "5": "3",
                  "6": "A9DDF444-C2C9-4239-920F-789104109B3F",
                  "7": "A7B84D42-70F8-42F4-B863-F1956149CEF5"
                },
                {
                  "0": "1711",
                  "1": "20220331",
                  "2": "60",
                  "3": "24774",
                  "4": "8",
                  "5": "3",
                  "6": "DDDB7C1F-3355-427F-AA73-85CE7BE77D58",
                  "7": "658B8A02-43A7-4F19-BBD9-78D230B15840"
                },
                {
                  "0": "2890",
                  "1": "20220331",
                  "2": "32",
                  "3": "35081",
                  "4": "2",
                  "5": "9",
                  "6": "109CA990-16EF-44A3-822B-273F79C7974C",
                  "7": "B201CE2E-FC32-4165-B080-9310DE85075A"
                },
                {
                  "0": "2926",
                  "1": "20220331",
                  "2": "26",
                  "3": "39421",
                  "4": "8",
                  "5": "3",
                  "6": "881D161F-2A58-47F2-81BF-28052639CBD2",
                  "7": "9276A2F0-DCE7-4480-908C-44EA21460F11"
                },
                {
                  "0": "3144",
                  "1": "20220331",
                  "2": "49",
                  "3": "38042",
                  "4": "7",
                  "5": "4",
                  "6": "1B70E09E-0E98-4BE1-B92E-A2635591DC4F",
                  "7": "A5FF07D8-53F0-4538-B029-11798C7F0479"
                }
              ],
              "schema": [
                {
                  "key": "0",
                  "name": "tid",
                  "type": "string"
                },
                {
                  "key": "1",
                  "name": "transaction_date",
                  "type": "string"
                },
                {
                  "key": "2",
                  "name": "order_count",
                  "type": "string"
                },
                {
                  "key": "3",
                  "name": "total_cost",
                  "type": "string"
                },
                {
                  "key": "4",
                  "name": "sid",
                  "type": "string"
                },
                {
                  "key": "5",
                  "name": "pid",
                  "type": "string"
                },
                {
                  "key": "6",
                  "name": "c1",
                  "type": "string"
                },
                {
                  "key": "7",
                  "name": "c2",
                  "type": "string"
                }
              ],
              "truncated": false
            },
            "isSummary": false,
            "language": "scala"
          },
          "persist_state": {
            "view": {
              "type": "details",
              "tableOptions": {},
              "chartOptions": {
                "chartType": "bar",
                "aggregationType": "count",
                "categoryFieldKeys": [
                  "0"
                ],
                "seriesFieldKeys": [
                  "0"
                ],
                "isStacked": false
              }
            }
          }
        }
      }
    }
  },
  "nbformat": 4,
  "nbformat_minor": 2
}