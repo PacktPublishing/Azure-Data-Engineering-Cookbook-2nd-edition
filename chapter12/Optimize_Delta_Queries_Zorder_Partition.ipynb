{
  "cells": [
    {
      "cell_type": "code",
      "source": [
        "%%sql\r\n",
        "Select count(DISTINCT pid) as pid_count,count(DISTINCT tid) as tid_count  from transaction_tbl_f1"
      ],
      "outputs": [
        {
          "output_type": "display_data",
          "data": {
            "application/vnd.livy.statement-meta+json": {
              "spark_pool": "packtsparkpool",
              "session_id": "73",
              "statement_id": 35,
              "state": "finished",
              "livy_statement_state": "available",
              "queued_time": "2022-07-17T16:04:03.8306417Z",
              "session_start_time": null,
              "execution_start_time": "2022-07-17T16:04:04.0845265Z",
              "execution_finish_time": "2022-07-17T16:04:49.9042445Z",
              "spark_jobs": null
            },
            "text/plain": "StatementMeta(packtsparkpool, 73, 35, Finished, Available)"
          },
          "metadata": {}
        },
        {
          "output_type": "execute_result",
          "execution_count": 26,
          "data": {
            "application/vnd.synapse.sparksql-result+json": {
              "schema": {
                "type": "struct",
                "fields": [
                  {
                    "name": "pid_count",
                    "type": "long",
                    "nullable": false,
                    "metadata": {}
                  },
                  {
                    "name": "tid_count",
                    "type": "long",
                    "nullable": false,
                    "metadata": {}
                  }
                ]
              },
              "data": [
                [
                  "10",
                  "242744"
                ]
              ]
            },
            "text/plain": "<Spark SQL result set with 1 rows and 2 fields>"
          },
          "metadata": {}
        }
      ],
      "execution_count": 26,
      "metadata": {
        "jupyter": {
          "source_hidden": false,
          "outputs_hidden": false
        },
        "nteract": {
          "transient": {
            "deleting": false
          }
        },
        "microsoft": {
          "language": "sparksql"
        },
        "collapsed": false
      }
    },
    {
      "cell_type": "code",
      "source": [
        "%%sql\r\n",
        "\r\n",
        "CREATE TABLE transaction_tbl_opt_f1 \r\n",
        "USING DELTA PARTITIONED BY (pid)\r\n",
        "AS\r\n",
        "SELECT * FROM transaction_tbl_f1;\r\n",
        "CREATE TABLE transaction_tbl_opt_f2 \r\n",
        "USING DELTA \r\n",
        "SELECT * FROM transaction_tbl_f2;"
      ],
      "outputs": [
        {
          "output_type": "display_data",
          "data": {
            "application/vnd.livy.statement-meta+json": {
              "spark_pool": null,
              "session_id": "73",
              "statement_id": -1,
              "state": "finished",
              "livy_statement_state": "available",
              "queued_time": "2022-07-17T16:55:31.8569855Z",
              "session_start_time": null,
              "execution_start_time": "2022-07-17T17:00:43.8734441Z",
              "execution_finish_time": "2022-07-17T17:00:43.8737406Z",
              "spark_jobs": null
            },
            "text/plain": "StatementMeta(, 73, -1, Finished, Available)"
          },
          "metadata": {}
        },
        {
          "output_type": "execute_result",
          "execution_count": 31,
          "data": {
            "application/vnd.synapse.sparksql-result+json": {
              "schema": {
                "type": "struct",
                "fields": []
              },
              "data": []
            },
            "text/plain": "<Spark SQL result set with 0 rows and 0 fields>"
          },
          "metadata": {}
        },
        {
          "output_type": "execute_result",
          "execution_count": 31,
          "data": {
            "application/vnd.synapse.sparksql-result+json": {
              "schema": {
                "type": "struct",
                "fields": []
              },
              "data": []
            },
            "text/plain": "<Spark SQL result set with 0 rows and 0 fields>"
          },
          "metadata": {}
        }
      ],
      "execution_count": 31,
      "metadata": {
        "microsoft": {
          "language": "sparksql"
        },
        "collapsed": false
      }
    },
    {
      "cell_type": "code",
      "source": [
        "%%sql\r\n",
        "Optimize transaction_tbl_opt_f1 zorder by (tid);\r\n",
        "Optimize transaction_tbl_opt_f2 zorder by (tid);"
      ],
      "outputs": [
        {
          "output_type": "display_data",
          "data": {
            "application/vnd.livy.statement-meta+json": {
              "spark_pool": null,
              "session_id": "73",
              "statement_id": -1,
              "state": "finished",
              "livy_statement_state": "available",
              "queued_time": "2022-07-17T16:13:39.1612399Z",
              "session_start_time": null,
              "execution_start_time": "2022-07-17T16:25:56.6252998Z",
              "execution_finish_time": "2022-07-17T16:25:56.6255567Z",
              "spark_jobs": null
            },
            "text/plain": "StatementMeta(, 73, -1, Finished, Available)"
          },
          "metadata": {}
        },
        {
          "output_type": "execute_result",
          "execution_count": 28,
          "data": {
            "application/vnd.synapse.sparksql-result+json": {
              "schema": {
                "type": "struct",
                "fields": [
                  {
                    "name": "name",
                    "type": "string",
                    "nullable": true,
                    "metadata": {}
                  },
                  {
                    "name": "value",
                    "type": "long",
                    "nullable": true,
                    "metadata": {}
                  }
                ]
              },
              "data": [
                [
                  "numFilesBefore",
                  "2170"
                ],
                [
                  "numBytesBefore",
                  "6418144533"
                ],
                [
                  "numFilesAfter",
                  "10"
                ],
                [
                  "numBytesAfter",
                  "68328644"
                ],
                [
                  "numAddedFiles",
                  "10"
                ],
                [
                  "numRemovedFiles",
                  "2170"
                ],
                [
                  "numAddedBytes",
                  "68328644"
                ],
                [
                  "numRemovedBytes",
                  "6418144533"
                ],
                [
                  "minFileSize",
                  "2771342"
                ],
                [
                  "p25FileSize",
                  "7046880"
                ],
                [
                  "p50FileSize",
                  "7874306"
                ],
                [
                  "p75FileSize",
                  "8001856"
                ],
                [
                  "maxFileSize",
                  "8075443"
                ]
              ]
            },
            "text/plain": "<Spark SQL result set with 13 rows and 2 fields>"
          },
          "metadata": {}
        },
        {
          "output_type": "execute_result",
          "execution_count": 28,
          "data": {
            "application/vnd.synapse.sparksql-result+json": {
              "schema": {
                "type": "struct",
                "fields": [
                  {
                    "name": "name",
                    "type": "string",
                    "nullable": true,
                    "metadata": {}
                  },
                  {
                    "name": "value",
                    "type": "long",
                    "nullable": true,
                    "metadata": {}
                  }
                ]
              },
              "data": [
                [
                  "numFilesBefore",
                  "6"
                ],
                [
                  "numBytesBefore",
                  "40101883"
                ],
                [
                  "numFilesAfter",
                  "1"
                ],
                [
                  "numBytesAfter",
                  "23108746"
                ],
                [
                  "numAddedFiles",
                  "1"
                ],
                [
                  "numRemovedFiles",
                  "6"
                ],
                [
                  "numAddedBytes",
                  "23108746"
                ],
                [
                  "numRemovedBytes",
                  "40101883"
                ],
                [
                  "minFileSize",
                  "23108746"
                ],
                [
                  "p25FileSize",
                  "23108746"
                ],
                [
                  "p50FileSize",
                  "23108746"
                ],
                [
                  "p75FileSize",
                  "23108746"
                ],
                [
                  "maxFileSize",
                  "23108746"
                ]
              ]
            },
            "text/plain": "<Spark SQL result set with 13 rows and 2 fields>"
          },
          "metadata": {}
        }
      ],
      "execution_count": 28,
      "metadata": {
        "jupyter": {
          "source_hidden": false,
          "outputs_hidden": false
        },
        "nteract": {
          "transient": {
            "deleting": false
          }
        },
        "microsoft": {
          "language": "sparksql"
        },
        "collapsed": false
      }
    },
    {
      "cell_type": "code",
      "source": [
        "%%sql\r\n",
        "\r\n",
        "Select t1.pid,sum(t2.order_count)\r\n",
        "FROM transaction_tbl_opt_f1 t1 \r\n",
        "inner join transaction_tbl_opt_f2 t2 on t1.tid = t2.tid\r\n",
        "WHERE t1.pid between 3 and 7\r\n",
        "Group by t1.pid"
      ],
      "outputs": [
        {
          "output_type": "display_data",
          "data": {
            "application/vnd.livy.statement-meta+json": {
              "spark_pool": "packtsparkpool",
              "session_id": "73",
              "statement_id": 40,
              "state": "finished",
              "livy_statement_state": "available",
              "queued_time": "2022-07-17T16:13:39.2133123Z",
              "session_start_time": null,
              "execution_start_time": "2022-07-17T16:25:56.7223212Z",
              "execution_finish_time": "2022-07-17T16:26:23.7838174Z",
              "spark_jobs": null
            },
            "text/plain": "StatementMeta(packtsparkpool, 73, 40, Finished, Available)"
          },
          "metadata": {}
        },
        {
          "output_type": "execute_result",
          "execution_count": 29,
          "data": {
            "application/vnd.synapse.sparksql-result+json": {
              "schema": {
                "type": "struct",
                "fields": [
                  {
                    "name": "pid",
                    "type": "string",
                    "nullable": true,
                    "metadata": {}
                  },
                  {
                    "name": "sum(CAST(order_count AS DOUBLE))",
                    "type": "double",
                    "nullable": true,
                    "metadata": {}
                  }
                ]
              },
              "data": [
                [
                  "7",
                  1840609280
                ],
                [
                  "3",
                  1847656448
                ],
                [
                  "5",
                  1840822272
                ],
                [
                  "6",
                  1843316736
                ],
                [
                  "4",
                  1853331456
                ]
              ]
            },
            "text/plain": "<Spark SQL result set with 5 rows and 2 fields>"
          },
          "metadata": {}
        }
      ],
      "execution_count": 29,
      "metadata": {
        "jupyter": {
          "source_hidden": false,
          "outputs_hidden": false
        },
        "nteract": {
          "transient": {
            "deleting": false
          }
        },
        "microsoft": {
          "language": "sparksql"
        },
        "collapsed": false
      }
    },
    {
      "cell_type": "code",
      "source": [
        "%%sql\r\n",
        " Drop table transaction_tbl_f1;\r\n",
        "Drop table transaction_tbl_f2; \r\n",
        "drop table transaction_tbl_opt_f1;\r\n",
        "drop table transaction_tbl_opt_f2; "
      ],
      "outputs": [
        {
          "output_type": "display_data",
          "data": {
            "application/vnd.livy.statement-meta+json": {
              "spark_pool": null,
              "session_id": "73",
              "statement_id": -1,
              "state": "finished",
              "livy_statement_state": "available",
              "queued_time": "2022-07-17T16:13:39.2658104Z",
              "session_start_time": null,
              "execution_start_time": "2022-07-17T16:26:29.4425355Z",
              "execution_finish_time": "2022-07-17T16:26:29.442843Z",
              "spark_jobs": null
            },
            "text/plain": "StatementMeta(, 73, -1, Finished, Available)"
          },
          "metadata": {}
        },
        {
          "output_type": "execute_result",
          "execution_count": 30,
          "data": {
            "application/vnd.synapse.sparksql-result+json": {
              "schema": {
                "type": "struct",
                "fields": []
              },
              "data": []
            },
            "text/plain": "<Spark SQL result set with 0 rows and 0 fields>"
          },
          "metadata": {}
        },
        {
          "output_type": "execute_result",
          "execution_count": 30,
          "data": {
            "application/vnd.synapse.sparksql-result+json": {
              "schema": {
                "type": "struct",
                "fields": []
              },
              "data": []
            },
            "text/plain": "<Spark SQL result set with 0 rows and 0 fields>"
          },
          "metadata": {}
        },
        {
          "output_type": "execute_result",
          "execution_count": 30,
          "data": {
            "application/vnd.synapse.sparksql-result+json": {
              "schema": {
                "type": "struct",
                "fields": []
              },
              "data": []
            },
            "text/plain": "<Spark SQL result set with 0 rows and 0 fields>"
          },
          "metadata": {}
        },
        {
          "output_type": "execute_result",
          "execution_count": 30,
          "data": {
            "application/vnd.synapse.sparksql-result+json": {
              "schema": {
                "type": "struct",
                "fields": []
              },
              "data": []
            },
            "text/plain": "<Spark SQL result set with 0 rows and 0 fields>"
          },
          "metadata": {}
        }
      ],
      "execution_count": 30,
      "metadata": {
        "jupyter": {
          "source_hidden": false,
          "outputs_hidden": false
        },
        "nteract": {
          "transient": {
            "deleting": false
          }
        },
        "microsoft": {
          "language": "sparksql"
        },
        "collapsed": false
      }
    }
  ],
  "metadata": {
    "language_info": {
      "name": "python"
    },
    "kernelspec": {
      "name": "synapse_pyspark",
      "language": "Python",
      "display_name": "Synapse PySpark"
    },
    "kernel_info": {
      "name": "synapse_pyspark"
    },
    "save_output": true,
    "synapse_widget": {
      "version": "0.1",
      "state": {}
    }
  },
  "nbformat": 4,
  "nbformat_minor": 2
}